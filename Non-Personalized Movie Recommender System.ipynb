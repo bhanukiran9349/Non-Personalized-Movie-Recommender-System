{
 "cells": [
  {
   "cell_type": "markdown",
   "metadata": {},
   "source": [
    "#A general non-personalized data Recommender system"
   ]
  },
  {
   "cell_type": "code",
   "execution_count": 168,
   "metadata": {},
   "outputs": [],
   "source": [
    "using RDatasets\n",
    "using DataFrames\n",
    "using CSV"
   ]
  },
  {
   "cell_type": "code",
   "execution_count": 167,
   "metadata": {},
   "outputs": [
    {
     "data": {
      "text/html": [
       "<table class=\"data-frame\"><thead><tr><th></th><th>ID</th><th>Title</th><th>Animation</th><th>Comedy</th><th>Drama</th><th>Adventure</th><th>Mistery</th></tr><tr><th></th><th>Int64</th><th>String</th><th>Int64</th><th>Int64</th><th>Int64</th><th>Int64</th><th>Int64</th></tr></thead><tbody><p>5,392 rows × 10 columns (omitted printing of 3 columns)</p><tr><th>1</th><td>1</td><td>Perez Hilton</td><td>0</td><td>1</td><td>0</td><td>0</td><td>1</td></tr><tr><th>2</th><td>2</td><td>Andy Dick</td><td>0</td><td>1</td><td>1</td><td>1</td><td>1</td></tr><tr><th>3</th><td>3</td><td>TJ Lavin</td><td>0</td><td>1</td><td>0</td><td>0</td><td>1</td></tr><tr><th>4</th><td>4</td><td>Carson Kressley</td><td>0</td><td>1</td><td>1</td><td>1</td><td>1</td></tr><tr><th>5</th><td>5</td><td>RiFF RAFF</td><td>0</td><td>0</td><td>0</td><td>0</td><td>1</td></tr><tr><th>6</th><td>6</td><td>Chumlee</td><td>0</td><td>1</td><td>0</td><td>0</td><td>0</td></tr><tr><th>7</th><td>7</td><td>Gilbert Gottfried</td><td>0</td><td>0</td><td>1</td><td>1</td><td>1</td></tr><tr><th>8</th><td>8</td><td>Ice T</td><td>0</td><td>1</td><td>1</td><td>1</td><td>0</td></tr><tr><th>9</th><td>9</td><td>Ben Higgins</td><td>0</td><td>1</td><td>0</td><td>0</td><td>1</td></tr><tr><th>10</th><td>10</td><td>Evan Breen</td><td>0</td><td>0</td><td>0</td><td>0</td><td>0</td></tr><tr><th>11</th><td>11</td><td>Tommy â€œTinyâ€\\u9d Lister</td><td>0</td><td>0</td><td>1</td><td>1</td><td>0</td></tr><tr><th>12</th><td>12</td><td>Nick Colletti</td><td>0</td><td>0</td><td>0</td><td>0</td><td>1</td></tr><tr><th>13</th><td>13</td><td>Sonja Morgan</td><td>0</td><td>1</td><td>0</td><td>0</td><td>1</td></tr><tr><th>14</th><td>14</td><td>Simon Rex</td><td>0</td><td>0</td><td>1</td><td>1</td><td>0</td></tr><tr><th>15</th><td>15</td><td>Rex Smith</td><td>0</td><td>0</td><td>1</td><td>1</td><td>0</td></tr><tr><th>16</th><td>16</td><td>Tyler Lockett</td><td>0</td><td>0</td><td>0</td><td>0</td><td>1</td></tr><tr><th>17</th><td>17</td><td>David Hayter</td><td>0</td><td>0</td><td>1</td><td>1</td><td>0</td></tr><tr><th>18</th><td>18</td><td>Nev Schulman</td><td>0</td><td>1</td><td>0</td><td>0</td><td>0</td></tr><tr><th>19</th><td>19</td><td>Holly Madison</td><td>0</td><td>1</td><td>0</td><td>0</td><td>1</td></tr><tr><th>20</th><td>20</td><td>Sean Astin</td><td>0</td><td>0</td><td>1</td><td>1</td><td>1</td></tr><tr><th>21</th><td>21</td><td>Flavor Flav</td><td>0</td><td>1</td><td>0</td><td>0</td><td>0</td></tr><tr><th>22</th><td>22</td><td>Kate Flannery</td><td>0</td><td>0</td><td>1</td><td>1</td><td>1</td></tr><tr><th>23</th><td>23</td><td>Brian Baumgartner</td><td>0</td><td>0</td><td>1</td><td>1</td><td>0</td></tr><tr><th>24</th><td>24</td><td>Kyle Massey</td><td>0</td><td>0</td><td>1</td><td>1</td><td>0</td></tr><tr><th>25</th><td>25</td><td>Bethenny Frankel</td><td>0</td><td>1</td><td>0</td><td>0</td><td>1</td></tr><tr><th>26</th><td>26</td><td>Tito Ortiz</td><td>0</td><td>0</td><td>0</td><td>0</td><td>0</td></tr><tr><th>27</th><td>27</td><td>James Kennedy</td><td>0</td><td>1</td><td>0</td><td>0</td><td>1</td></tr><tr><th>28</th><td>28</td><td>Scheana Shay</td><td>0</td><td>1</td><td>0</td><td>0</td><td>1</td></tr><tr><th>29</th><td>29</td><td>Hal Sparks</td><td>0</td><td>0</td><td>1</td><td>1</td><td>1</td></tr><tr><th>30</th><td>30</td><td>Lance Bass</td><td>0</td><td>1</td><td>0</td><td>0</td><td>0</td></tr><tr><th>&vellip;</th><td>&vellip;</td><td>&vellip;</td><td>&vellip;</td><td>&vellip;</td><td>&vellip;</td><td>&vellip;</td><td>&vellip;</td></tr></tbody></table>"
      ],
      "text/latex": [
       "\\begin{tabular}{r|cccccccc}\n",
       "\t& ID & Title & Animation & Comedy & Drama & Adventure & Mistery & \\\\\n",
       "\t\\hline\n",
       "\t& Int64 & String & Int64 & Int64 & Int64 & Int64 & Int64 & \\\\\n",
       "\t\\hline\n",
       "\t1 & 1 & Perez Hilton & 0 & 1 & 0 & 0 & 1 & $\\dots$ \\\\\n",
       "\t2 & 2 & Andy Dick & 0 & 1 & 1 & 1 & 1 & $\\dots$ \\\\\n",
       "\t3 & 3 & TJ Lavin & 0 & 1 & 0 & 0 & 1 & $\\dots$ \\\\\n",
       "\t4 & 4 & Carson Kressley & 0 & 1 & 1 & 1 & 1 & $\\dots$ \\\\\n",
       "\t5 & 5 & RiFF RAFF & 0 & 0 & 0 & 0 & 1 & $\\dots$ \\\\\n",
       "\t6 & 6 & Chumlee & 0 & 1 & 0 & 0 & 0 & $\\dots$ \\\\\n",
       "\t7 & 7 & Gilbert Gottfried & 0 & 0 & 1 & 1 & 1 & $\\dots$ \\\\\n",
       "\t8 & 8 & Ice T & 0 & 1 & 1 & 1 & 0 & $\\dots$ \\\\\n",
       "\t9 & 9 & Ben Higgins & 0 & 1 & 0 & 0 & 1 & $\\dots$ \\\\\n",
       "\t10 & 10 & Evan Breen & 0 & 0 & 0 & 0 & 0 & $\\dots$ \\\\\n",
       "\t11 & 11 & Tommy â€œTinyâ€\\textbackslash{}u9d Lister & 0 & 0 & 1 & 1 & 0 & $\\dots$ \\\\\n",
       "\t12 & 12 & Nick Colletti & 0 & 0 & 0 & 0 & 1 & $\\dots$ \\\\\n",
       "\t13 & 13 & Sonja Morgan & 0 & 1 & 0 & 0 & 1 & $\\dots$ \\\\\n",
       "\t14 & 14 & Simon Rex & 0 & 0 & 1 & 1 & 0 & $\\dots$ \\\\\n",
       "\t15 & 15 & Rex Smith & 0 & 0 & 1 & 1 & 0 & $\\dots$ \\\\\n",
       "\t16 & 16 & Tyler Lockett & 0 & 0 & 0 & 0 & 1 & $\\dots$ \\\\\n",
       "\t17 & 17 & David Hayter & 0 & 0 & 1 & 1 & 0 & $\\dots$ \\\\\n",
       "\t18 & 18 & Nev Schulman & 0 & 1 & 0 & 0 & 0 & $\\dots$ \\\\\n",
       "\t19 & 19 & Holly Madison & 0 & 1 & 0 & 0 & 1 & $\\dots$ \\\\\n",
       "\t20 & 20 & Sean Astin & 0 & 0 & 1 & 1 & 1 & $\\dots$ \\\\\n",
       "\t21 & 21 & Flavor Flav & 0 & 1 & 0 & 0 & 0 & $\\dots$ \\\\\n",
       "\t22 & 22 & Kate Flannery & 0 & 0 & 1 & 1 & 1 & $\\dots$ \\\\\n",
       "\t23 & 23 & Brian Baumgartner & 0 & 0 & 1 & 1 & 0 & $\\dots$ \\\\\n",
       "\t24 & 24 & Kyle Massey & 0 & 0 & 1 & 1 & 0 & $\\dots$ \\\\\n",
       "\t25 & 25 & Bethenny Frankel & 0 & 1 & 0 & 0 & 1 & $\\dots$ \\\\\n",
       "\t26 & 26 & Tito Ortiz & 0 & 0 & 0 & 0 & 0 & $\\dots$ \\\\\n",
       "\t27 & 27 & James Kennedy & 0 & 1 & 0 & 0 & 1 & $\\dots$ \\\\\n",
       "\t28 & 28 & Scheana Shay & 0 & 1 & 0 & 0 & 1 & $\\dots$ \\\\\n",
       "\t29 & 29 & Hal Sparks & 0 & 0 & 1 & 1 & 1 & $\\dots$ \\\\\n",
       "\t30 & 30 & Lance Bass & 0 & 1 & 0 & 0 & 0 & $\\dots$ \\\\\n",
       "\t$\\dots$ & $\\dots$ & $\\dots$ & $\\dots$ & $\\dots$ & $\\dots$ & $\\dots$ & $\\dots$ &  \\\\\n",
       "\\end{tabular}\n"
      ],
      "text/plain": [
       "5392×10 DataFrame. Omitted printing of 4 columns\n",
       "│ Row  │ ID    │ Title             │ Animation │ Comedy │ Drama │ Adventure │\n",
       "│      │ \u001b[90mInt64\u001b[39m │ \u001b[90mString\u001b[39m            │ \u001b[90mInt64\u001b[39m     │ \u001b[90mInt64\u001b[39m  │ \u001b[90mInt64\u001b[39m │ \u001b[90mInt64\u001b[39m     │\n",
       "├──────┼───────┼───────────────────┼───────────┼────────┼───────┼───────────┤\n",
       "│ 1    │ 1     │ Perez Hilton      │ 0         │ 1      │ 0     │ 0         │\n",
       "│ 2    │ 2     │ Andy Dick         │ 0         │ 1      │ 1     │ 1         │\n",
       "│ 3    │ 3     │ TJ Lavin          │ 0         │ 1      │ 0     │ 0         │\n",
       "│ 4    │ 4     │ Carson Kressley   │ 0         │ 1      │ 1     │ 1         │\n",
       "│ 5    │ 5     │ RiFF RAFF         │ 0         │ 0      │ 0     │ 0         │\n",
       "│ 6    │ 6     │ Chumlee           │ 0         │ 1      │ 0     │ 0         │\n",
       "│ 7    │ 7     │ Gilbert Gottfried │ 0         │ 0      │ 1     │ 1         │\n",
       "│ 8    │ 8     │ Ice T             │ 0         │ 1      │ 1     │ 1         │\n",
       "│ 9    │ 9     │ Ben Higgins       │ 0         │ 1      │ 0     │ 0         │\n",
       "│ 10   │ 10    │ Evan Breen        │ 0         │ 0      │ 0     │ 0         │\n",
       "⋮\n",
       "│ 5382 │ 5382  │ Dan Malcom        │ 0         │ 0      │ 0     │ 0         │\n",
       "│ 5383 │ 5383  │ Chris Jai Alex    │ 0         │ 0      │ 0     │ 0         │\n",
       "│ 5384 │ 5384  │ Peter Dickson     │ 0         │ 0      │ 0     │ 0         │\n",
       "│ 5385 │ 5385  │ Laura Perlongo    │ 0         │ 0      │ 0     │ 0         │\n",
       "│ 5386 │ 5386  │ Anna del Gaizo    │ 1         │ 0      │ 0     │ 0         │\n",
       "│ 5387 │ 5387  │ Zach Harper       │ 0         │ 0      │ 0     │ 0         │\n",
       "│ 5388 │ 5388  │ John Oberg        │ 0         │ 0      │ 0     │ 0         │\n",
       "│ 5389 │ 5389  │ Zac Pullam        │ 0         │ 0      │ 0     │ 0         │\n",
       "│ 5390 │ 5390  │ Kansas Bowling    │ 1         │ 0      │ 0     │ 0         │\n",
       "│ 5391 │ 5391  │ Matt Cirulnick    │ 0         │ 0      │ 0     │ 0         │\n",
       "│ 5392 │ 5392  │ Caleb Senzel      │ 1         │ 0      │ 0     │ 0         │"
      ]
     },
     "execution_count": 167,
     "metadata": {},
     "output_type": "execute_result"
    }
   ],
   "source": [
    "DATA = CSV.read(\"Rec_Mov.csv\")\n",
    "#Columns in the Dataset are :- ID,Title,Animation,COmedy,Drama,Adventure,Mistery,Fiction,Thriller,Musical"
   ]
  },
  {
   "cell_type": "code",
   "execution_count": 165,
   "metadata": {},
   "outputs": [
    {
     "name": "stdout",
     "output_type": "stream",
     "text": [
      "1×2 DataFrame\n",
      "│ Row │ Animation │ x1         │\n",
      "│     │ \u001b[90mInt64\u001b[39m     │ \u001b[90mTuple…\u001b[39m     │\n",
      "├─────┼───────────┼────────────┤\n",
      "│ 1   │ 1         │ (3733, 10) │\n"
     ]
    },
    {
     "data": {
      "text/plain": [
       "20-element Array{String,1}:\n",
       " \"Jakeneutron\"\n",
       " \"Ahmed Aldoori\"\n",
       " \"Timothy Hoang\"\n",
       " \"Hollyn\"\n",
       " \"Jahn Lemieux\"\n",
       " \"Kimmy Tan\"\n",
       " \"Lukas 'Wildrok' Bellesini\"\n",
       " \"Dylan Holland\"\n",
       " \"Mika Salamanca\"\n",
       " \"Dane Bowers\"\n",
       " \"Michael Trewartha\"\n",
       " \"Ashley B\"\n",
       " \"Majeste Amour Pearson\"\n",
       " \"Kevin Miguel Williams\"\n",
       " \"Sage Adams\"\n",
       " \"Baylor Barnes\"\n",
       " \"Mrbernz\"\n",
       " \"Rap-Unzel\"\n",
       " \"Lil Bri\"\n",
       " \"Morgan Justus\""
      ]
     },
     "execution_count": 165,
     "metadata": {},
     "output_type": "execute_result"
    }
   ],
   "source": [
    "Animation = groupby(DATA, :Animation) #Using a method from RDatasets\n",
    "Actors_Animation = Animation[2] #Filtering the group which is only true\n",
    "all_anim_actors =by(Actors_Animation, :Animation,size) #Showing the total no.of movies count for Animation Genre.\n",
    "println(all_anim_actors)\n",
    "Actors_Animation[\"Title\"][1:20] # Printing only the Title column from the filtered dataset"
   ]
  },
  {
   "cell_type": "code",
   "execution_count": 160,
   "metadata": {},
   "outputs": [
    {
     "name": "stdout",
     "output_type": "stream",
     "text": [
      "1×2 DataFrame\n",
      "│ Row │ Comedy │ x1        │\n",
      "│     │ \u001b[90mInt64\u001b[39m  │ \u001b[90mTuple…\u001b[39m    │\n",
      "├─────┼────────┼───────────┤\n",
      "│ 1   │ 1      │ (586, 10) │\n"
     ]
    },
    {
     "data": {
      "text/plain": [
       "10-element Array{String,1}:\n",
       " \"Perez Hilton\"\n",
       " \"Andy Dick\"\n",
       " \"TJ Lavin\"\n",
       " \"Carson Kressley\"\n",
       " \"Chumlee\"\n",
       " \"Ice T\"\n",
       " \"Ben Higgins\"\n",
       " \"Sonja Morgan\"\n",
       " \"Nev Schulman\"\n",
       " \"Holly Madison\""
      ]
     },
     "execution_count": 160,
     "metadata": {},
     "output_type": "execute_result"
    }
   ],
   "source": [
    "Comedy = groupby(DATA, :Comedy)\n",
    "Actors_Comedy = Comedy[1]\n",
    "all_comedy_actors = by(Actors_Comedy,:Comedy,size)\n",
    "println(all_comedy_actors)\n",
    "Actors_Comedy[\"Title\"][1:10]"
   ]
  },
  {
   "cell_type": "code",
   "execution_count": 141,
   "metadata": {},
   "outputs": [
    {
     "name": "stdout",
     "output_type": "stream",
     "text": [
      "1×3 DataFrame\n",
      "│ Row │ Drama │ Comedy │ x1       │\n",
      "│     │ \u001b[90mInt64\u001b[39m │ \u001b[90mInt64\u001b[39m  │ \u001b[90mTuple…\u001b[39m   │\n",
      "├─────┼───────┼────────┼──────────┤\n",
      "│ 1   │ 1     │ 1      │ (29, 10) │\n"
     ]
    },
    {
     "data": {
      "text/html": [
       "<table class=\"data-frame\"><thead><tr><th></th><th>ID</th><th>Title</th><th>Animation</th><th>Comedy</th><th>Drama</th><th>Adventure</th><th>Mistery</th></tr><tr><th></th><th>Int64</th><th>String</th><th>Int64</th><th>Int64</th><th>Int64</th><th>Int64</th><th>Int64</th></tr></thead><tbody><p>29 rows × 10 columns (omitted printing of 3 columns)</p><tr><th>1</th><td>2</td><td>Andy Dick</td><td>0</td><td>1</td><td>1</td><td>1</td><td>1</td></tr><tr><th>2</th><td>4</td><td>Carson Kressley</td><td>0</td><td>1</td><td>1</td><td>1</td><td>1</td></tr><tr><th>3</th><td>8</td><td>Ice T</td><td>0</td><td>1</td><td>1</td><td>1</td><td>0</td></tr><tr><th>4</th><td>32</td><td>Corey Feldman</td><td>0</td><td>1</td><td>1</td><td>1</td><td>0</td></tr><tr><th>5</th><td>131</td><td>Kim Richards</td><td>0</td><td>1</td><td>1</td><td>1</td><td>0</td></tr><tr><th>6</th><td>209</td><td>Britney Haynes</td><td>0</td><td>1</td><td>1</td><td>1</td><td>1</td></tr><tr><th>7</th><td>212</td><td>Jai Rodriguez</td><td>0</td><td>1</td><td>1</td><td>1</td><td>1</td></tr><tr><th>8</th><td>226</td><td>Antonio MillÃ³n</td><td>0</td><td>1</td><td>1</td><td>1</td><td>1</td></tr><tr><th>9</th><td>232</td><td>Carl Radke</td><td>0</td><td>1</td><td>1</td><td>1</td><td>1</td></tr><tr><th>10</th><td>240</td><td>Juliet Simms</td><td>0</td><td>1</td><td>1</td><td>1</td><td>1</td></tr><tr><th>11</th><td>264</td><td>Josh Canfield</td><td>0</td><td>1</td><td>1</td><td>1</td><td>1</td></tr><tr><th>12</th><td>341</td><td>Joe Gnoffo</td><td>0</td><td>1</td><td>1</td><td>1</td><td>1</td></tr><tr><th>13</th><td>401</td><td>Gina Neely</td><td>0</td><td>1</td><td>1</td><td>1</td><td>1</td></tr><tr><th>14</th><td>483</td><td>Kato Kaelin</td><td>0</td><td>1</td><td>1</td><td>1</td><td>1</td></tr><tr><th>15</th><td>505</td><td>Ron Jeremy</td><td>0</td><td>1</td><td>1</td><td>1</td><td>1</td></tr><tr><th>16</th><td>522</td><td>Gigi Gustin</td><td>0</td><td>1</td><td>1</td><td>1</td><td>1</td></tr><tr><th>17</th><td>540</td><td>Mike C. Manning</td><td>0</td><td>1</td><td>1</td><td>1</td><td>1</td></tr><tr><th>18</th><td>579</td><td>Kevin Federline</td><td>0</td><td>1</td><td>1</td><td>1</td><td>1</td></tr><tr><th>19</th><td>587</td><td>Kimberleigh Zolciak Biermann</td><td>0</td><td>1</td><td>1</td><td>1</td><td>1</td></tr><tr><th>20</th><td>641</td><td>Brande Roderick</td><td>0</td><td>1</td><td>1</td><td>1</td><td>1</td></tr><tr><th>21</th><td>706</td><td>Farrah Abraham</td><td>0</td><td>1</td><td>1</td><td>1</td><td>1</td></tr><tr><th>22</th><td>709</td><td>Niki Murphy</td><td>0</td><td>1</td><td>1</td><td>1</td><td>1</td></tr><tr><th>23</th><td>848</td><td>Ronndell Smith</td><td>0</td><td>1</td><td>1</td><td>1</td><td>1</td></tr><tr><th>24</th><td>856</td><td>Mark 'Rhino' Smith</td><td>0</td><td>1</td><td>1</td><td>1</td><td>1</td></tr><tr><th>25</th><td>860</td><td>Adam Berry</td><td>0</td><td>1</td><td>1</td><td>1</td><td>1</td></tr><tr><th>26</th><td>870</td><td>Tori Spelling</td><td>0</td><td>1</td><td>1</td><td>1</td><td>1</td></tr><tr><th>27</th><td>872</td><td>Anna Cardwell</td><td>0</td><td>1</td><td>1</td><td>1</td><td>1</td></tr><tr><th>28</th><td>967</td><td>Paige Mobley</td><td>0</td><td>1</td><td>1</td><td>1</td><td>0</td></tr><tr><th>29</th><td>1117</td><td>Jeannie Detore</td><td>0</td><td>1</td><td>1</td><td>1</td><td>0</td></tr></tbody></table>"
      ],
      "text/latex": [
       "\\begin{tabular}{r|cccccccc}\n",
       "\t& ID & Title & Animation & Comedy & Drama & Adventure & Mistery & \\\\\n",
       "\t\\hline\n",
       "\t& Int64 & String & Int64 & Int64 & Int64 & Int64 & Int64 & \\\\\n",
       "\t\\hline\n",
       "\t1 & 2 & Andy Dick & 0 & 1 & 1 & 1 & 1 & $\\dots$ \\\\\n",
       "\t2 & 4 & Carson Kressley & 0 & 1 & 1 & 1 & 1 & $\\dots$ \\\\\n",
       "\t3 & 8 & Ice T & 0 & 1 & 1 & 1 & 0 & $\\dots$ \\\\\n",
       "\t4 & 32 & Corey Feldman & 0 & 1 & 1 & 1 & 0 & $\\dots$ \\\\\n",
       "\t5 & 131 & Kim Richards & 0 & 1 & 1 & 1 & 0 & $\\dots$ \\\\\n",
       "\t6 & 209 & Britney Haynes & 0 & 1 & 1 & 1 & 1 & $\\dots$ \\\\\n",
       "\t7 & 212 & Jai Rodriguez & 0 & 1 & 1 & 1 & 1 & $\\dots$ \\\\\n",
       "\t8 & 226 & Antonio MillÃ³n & 0 & 1 & 1 & 1 & 1 & $\\dots$ \\\\\n",
       "\t9 & 232 & Carl Radke & 0 & 1 & 1 & 1 & 1 & $\\dots$ \\\\\n",
       "\t10 & 240 & Juliet Simms & 0 & 1 & 1 & 1 & 1 & $\\dots$ \\\\\n",
       "\t11 & 264 & Josh Canfield & 0 & 1 & 1 & 1 & 1 & $\\dots$ \\\\\n",
       "\t12 & 341 & Joe Gnoffo & 0 & 1 & 1 & 1 & 1 & $\\dots$ \\\\\n",
       "\t13 & 401 & Gina Neely & 0 & 1 & 1 & 1 & 1 & $\\dots$ \\\\\n",
       "\t14 & 483 & Kato Kaelin & 0 & 1 & 1 & 1 & 1 & $\\dots$ \\\\\n",
       "\t15 & 505 & Ron Jeremy & 0 & 1 & 1 & 1 & 1 & $\\dots$ \\\\\n",
       "\t16 & 522 & Gigi Gustin & 0 & 1 & 1 & 1 & 1 & $\\dots$ \\\\\n",
       "\t17 & 540 & Mike C. Manning & 0 & 1 & 1 & 1 & 1 & $\\dots$ \\\\\n",
       "\t18 & 579 & Kevin Federline & 0 & 1 & 1 & 1 & 1 & $\\dots$ \\\\\n",
       "\t19 & 587 & Kimberleigh Zolciak Biermann & 0 & 1 & 1 & 1 & 1 & $\\dots$ \\\\\n",
       "\t20 & 641 & Brande Roderick & 0 & 1 & 1 & 1 & 1 & $\\dots$ \\\\\n",
       "\t21 & 706 & Farrah Abraham & 0 & 1 & 1 & 1 & 1 & $\\dots$ \\\\\n",
       "\t22 & 709 & Niki Murphy & 0 & 1 & 1 & 1 & 1 & $\\dots$ \\\\\n",
       "\t23 & 848 & Ronndell Smith & 0 & 1 & 1 & 1 & 1 & $\\dots$ \\\\\n",
       "\t24 & 856 & Mark 'Rhino' Smith & 0 & 1 & 1 & 1 & 1 & $\\dots$ \\\\\n",
       "\t25 & 860 & Adam Berry & 0 & 1 & 1 & 1 & 1 & $\\dots$ \\\\\n",
       "\t26 & 870 & Tori Spelling & 0 & 1 & 1 & 1 & 1 & $\\dots$ \\\\\n",
       "\t27 & 872 & Anna Cardwell & 0 & 1 & 1 & 1 & 1 & $\\dots$ \\\\\n",
       "\t28 & 967 & Paige Mobley & 0 & 1 & 1 & 1 & 0 & $\\dots$ \\\\\n",
       "\t29 & 1117 & Jeannie Detore & 0 & 1 & 1 & 1 & 0 & $\\dots$ \\\\\n",
       "\\end{tabular}\n"
      ],
      "text/plain": [
       "29×10 SubDataFrame. Omitted printing of 5 columns\n",
       "│ Row │ ID    │ Title                        │ Animation │ Comedy │ Drama │\n",
       "│     │ \u001b[90mInt64\u001b[39m │ \u001b[90mString\u001b[39m                       │ \u001b[90mInt64\u001b[39m     │ \u001b[90mInt64\u001b[39m  │ \u001b[90mInt64\u001b[39m │\n",
       "├─────┼───────┼──────────────────────────────┼───────────┼────────┼───────┤\n",
       "│ 1   │ 2     │ Andy Dick                    │ 0         │ 1      │ 1     │\n",
       "│ 2   │ 4     │ Carson Kressley              │ 0         │ 1      │ 1     │\n",
       "│ 3   │ 8     │ Ice T                        │ 0         │ 1      │ 1     │\n",
       "│ 4   │ 32    │ Corey Feldman                │ 0         │ 1      │ 1     │\n",
       "│ 5   │ 131   │ Kim Richards                 │ 0         │ 1      │ 1     │\n",
       "│ 6   │ 209   │ Britney Haynes               │ 0         │ 1      │ 1     │\n",
       "│ 7   │ 212   │ Jai Rodriguez                │ 0         │ 1      │ 1     │\n",
       "│ 8   │ 226   │ Antonio MillÃ³n              │ 0         │ 1      │ 1     │\n",
       "│ 9   │ 232   │ Carl Radke                   │ 0         │ 1      │ 1     │\n",
       "│ 10  │ 240   │ Juliet Simms                 │ 0         │ 1      │ 1     │\n",
       "⋮\n",
       "│ 19  │ 587   │ Kimberleigh Zolciak Biermann │ 0         │ 1      │ 1     │\n",
       "│ 20  │ 641   │ Brande Roderick              │ 0         │ 1      │ 1     │\n",
       "│ 21  │ 706   │ Farrah Abraham               │ 0         │ 1      │ 1     │\n",
       "│ 22  │ 709   │ Niki Murphy                  │ 0         │ 1      │ 1     │\n",
       "│ 23  │ 848   │ Ronndell Smith               │ 0         │ 1      │ 1     │\n",
       "│ 24  │ 856   │ Mark 'Rhino' Smith           │ 0         │ 1      │ 1     │\n",
       "│ 25  │ 860   │ Adam Berry                   │ 0         │ 1      │ 1     │\n",
       "│ 26  │ 870   │ Tori Spelling                │ 0         │ 1      │ 1     │\n",
       "│ 27  │ 872   │ Anna Cardwell                │ 0         │ 1      │ 1     │\n",
       "│ 28  │ 967   │ Paige Mobley                 │ 0         │ 1      │ 1     │\n",
       "│ 29  │ 1117  │ Jeannie Detore               │ 0         │ 1      │ 1     │"
      ]
     },
     "execution_count": 141,
     "metadata": {},
     "output_type": "execute_result"
    }
   ],
   "source": [
    "Drama_Comedy = groupby(DATA, [:Drama, :Comedy]) \n",
    "all_movies = Drama_Comedy[2]\n",
    "Size_Drama_Comedy = by(all_movies,[:Drama,:Comedy],size) #Showing the total no.of movies count for Drama & Comedy Genre.\n",
    "println(Size_Drama_Comedy)\n",
    "all_movies[\"Title\"][1:10]"
   ]
  },
  {
   "cell_type": "code",
   "execution_count": 156,
   "metadata": {},
   "outputs": [
    {
     "name": "stdout",
     "output_type": "stream",
     "text": [
      "1×4 DataFrame\n",
      "│ Row │ Drama │ Adventure │ Mistery │ x1        │\n",
      "│     │ \u001b[90mInt64\u001b[39m │ \u001b[90mInt64\u001b[39m     │ \u001b[90mInt64\u001b[39m   │ \u001b[90mTuple…\u001b[39m    │\n",
      "├─────┼───────┼───────────┼─────────┼───────────┤\n",
      "│ 1   │ 1     │ 1         │ 1       │ (724, 10) │\n"
     ]
    },
    {
     "data": {
      "text/plain": [
       "10-element Array{String,1}:\n",
       " \"Andy Dick\"\n",
       " \"Carson Kressley\"\n",
       " \"Gilbert Gottfried\"\n",
       " \"Sean Astin\"\n",
       " \"Kate Flannery\"\n",
       " \"Hal Sparks\"\n",
       " \"Pauly Shore\"\n",
       " \"Ruth Buzzi\"\n",
       " \"Bryan Callen\"\n",
       " \"Beverley Mitchell\""
      ]
     },
     "execution_count": 156,
     "metadata": {},
     "output_type": "execute_result"
    }
   ],
   "source": [
    "Drama_Adventure_Mystery = groupby(DATA, [:Drama,:Adventure,:Mistery]) \n",
    "all_movies = Drama_Adventure_Mystery[2]\n",
    "Size_Drama_Adventure_Mystery =  by(all_movies,[:Drama,:Adventure,:Mistery],size)\n",
    "println(Size_Drama_Adventure_Mystery)\n",
    "all_movies[\"Title\"][1:10]"
   ]
  },
  {
   "cell_type": "code",
   "execution_count": null,
   "metadata": {},
   "outputs": [],
   "source": []
  }
 ],
 "metadata": {
  "kernelspec": {
   "display_name": "Julia 1.5.3",
   "language": "julia",
   "name": "julia-1.5"
  },
  "language_info": {
   "file_extension": ".jl",
   "mimetype": "application/julia",
   "name": "julia",
   "version": "1.5.3"
  }
 },
 "nbformat": 4,
 "nbformat_minor": 4
}
